{
 "cells": [
  {
   "cell_type": "markdown",
   "metadata": {},
   "source": [
    "Q1. Explain Class and Object with respect to Object-Oriented Programming. Give a suitable example."
   ]
  },
  {
   "cell_type": "markdown",
   "metadata": {},
   "source": [
    "ANSWER = In object-oriented programming (OOP), a class and an object are fundamental concepts that help structure and represent data and behavior in a program.\n",
    "\n",
    "* Class:\n",
    "\n",
    "A class is a blueprint or a template for creating objects. It defines the structure, attributes, and behaviors that objects created from the class will have.\n",
    "It serves as a logical representation of an entity, grouping together data (attributes) and methods (functions) that operate on that data.\n",
    "Classes encapsulate data and functionality, promoting modularity, reusability, and maintainability in your code.\n",
    "\n",
    "* Object:\n",
    "\n",
    "An object is an instance of a class. It is a concrete, real-world representation of the blueprint defined by a class.\n",
    "Objects have their own unique state (attribute values) and can perform actions (invoke methods) as defined in the class.\n",
    "You can create multiple objects from the same class, each with its own set of attribute values.\n"
   ]
  },
  {
   "cell_type": "code",
   "execution_count": 1,
   "metadata": {},
   "outputs": [
    {
     "name": "stdout",
     "output_type": "stream",
     "text": [
      "Alice\n",
      "30\n",
      "Hi, I'm Alice, and I am 25 years old.\n",
      "Hi, I'm Bob, and I am 30 years old.\n"
     ]
    }
   ],
   "source": [
    "# Define a class called 'Person'\n",
    "class Person:\n",
    "    # Constructor method to initialize attributes\n",
    "    def __init__(self, name, age):\n",
    "        self.name = name  # 'name' is an attribute\n",
    "        self.age = age    # 'age' is an attribute\n",
    "\n",
    "    # Method to introduce the person\n",
    "    def introduce(self):\n",
    "        return f\"Hi, I'm {self.name}, and I am {self.age} years old.\"\n",
    "\n",
    "# Creating objects (instances) of the 'Person' class\n",
    "person1 = Person(\"Alice\", 25)\n",
    "person2 = Person(\"Bob\", 30)\n",
    "\n",
    "# Accessing attributes and invoking methods\n",
    "print(person1.name)  # Accessing the 'name' attribute of person1\n",
    "print(person2.age)   # Accessing the 'age' attribute of person2\n",
    "\n",
    "intro1 = person1.introduce()  # Invoking the 'introduce' method of person1\n",
    "intro2 = person2.introduce()  # Invoking the 'introduce' method of person2\n",
    "\n",
    "print(intro1)\n",
    "print(intro2)\n"
   ]
  },
  {
   "cell_type": "markdown",
   "metadata": {},
   "source": [
    "Q2. Name the four pillars of OOPs."
   ]
  },
  {
   "cell_type": "markdown",
   "metadata": {},
   "source": [
    "ANSWER = Certainly, here are the four pillars of Object-Oriented Programming (OOP) explained in simpler terms:\n",
    "\n",
    "Encapsulation: Think of encapsulation as putting things in a box and allowing only certain parts to be accessible from the outside. In OOP, you bundle data and methods into a class, keeping some details hidden and some visible, like a well-designed TV remote control where you don't need to know how the buttons work internally.\n",
    "\n",
    "Abstraction: Abstraction is like using a car without worrying about how the engine works or what happens under the hood. It means simplifying complex things and creating a clear, user-friendly interface to interact with. In OOP, you define abstract classes with general methods, so you don't need to worry about the nitty-gritty details.\n",
    "\n",
    "Inheritance: Inheritance is like inheriting traits from your parents. It allows you to create new classes based on existing ones, inheriting their characteristics and behaviors. It's like saying a sports car \"is a\" type of car and shares common car features while adding its own unique aspects.\n",
    "\n",
    "Polymorphism: Polymorphism is like a universal remote that can control different devices. In OOP, it means different objects can be treated as if they belong to the same family, even if they have their own unique behaviors. For example, a \"print\" function can work on different objects, like printing text or printing numbers, without needing to know the specifics of each object."
   ]
  },
  {
   "cell_type": "markdown",
   "metadata": {},
   "source": [
    "Q3. Explain why the __init__() function is used. Give a suitable example."
   ]
  },
  {
   "cell_type": "markdown",
   "metadata": {},
   "source": [
    "ANSWER = The __init__() function, also known as the constructor method, is used in Python to initialize the attributes (variables) of an object when an instance of a class is created. It is the first method that gets called when an object is created from a class. This function is crucial for setting up the initial state of the object and is used to assign values to the object's attributes.\n",
    "\n",
    "Here's an example to illustrate the use of the __init__() method:"
   ]
  },
  {
   "cell_type": "code",
   "execution_count": 2,
   "metadata": {},
   "outputs": [
    {
     "name": "stdout",
     "output_type": "stream",
     "text": [
      "Alice\n",
      "25\n"
     ]
    }
   ],
   "source": [
    "class Person:\n",
    "    def __init__(self, name, age):\n",
    "        self.name = name  # Initialize the 'name' attribute\n",
    "        self.age = age    # Initialize the 'age' attribute\n",
    "\n",
    "# Creating instances of the 'Person' class\n",
    "person1 = Person(\"Alice\", 30)\n",
    "person2 = Person(\"Bob\", 25)\n",
    "\n",
    "# Accessing the attributes of the objects\n",
    "print(person1.name)  # Output: \"Alice\"\n",
    "print(person2.age)   # Output: 25\n"
   ]
  },
  {
   "cell_type": "markdown",
   "metadata": {},
   "source": [
    "The __init__() method is essential because it ensures that objects start with the desired initial state, allowing you to work with objects that are correctly configured and ready to use."
   ]
  },
  {
   "cell_type": "markdown",
   "metadata": {},
   "source": [
    "Q4. Why self is used in OOPs?"
   ]
  },
  {
   "cell_type": "markdown",
   "metadata": {},
   "source": [
    "ANSWER = In object-oriented programming (OOP), self is a convention used in many programming languages, including Python, to refer to the current instance of a class. It is a reference to the object that is calling a method. Here's why self is used in OOP:\n",
    "\n",
    "Differentiating Instance and Class Variables: In a class, you can have both instance variables (attributes that are specific to each object) and class variables (attributes shared by all objects of the class). self is used to distinguish between instance variables and class variables. When you use self within a method, you are referring to an instance variable, and when you refer to an attribute without self, you are accessing a class variable.\n",
    "\n",
    "Accessing Object's Attributes and Methods: self allows you to access and manipulate the attributes and methods of the current object within a class. For example, you can set an object's attribute using self.attribute_name or call one of its methods using self.method_name().\n",
    "\n",
    "Instance Specificity: Each object created from a class has its own set of attributes and methods, and self is used to indicate that you are working with the attributes and methods specific to that particular instance.\n",
    "\n",
    "Method Invocation: When a method is called on an object, self allows the method to reference and manipulate the object's data. Without self, the method would not know which object's data to operate on.\n",
    "\n",
    "Here's an example in Python to illustrate the use of self:"
   ]
  },
  {
   "cell_type": "code",
   "execution_count": 3,
   "metadata": {},
   "outputs": [
    {
     "name": "stdout",
     "output_type": "stream",
     "text": [
      "Buddy, the Golden Retriever, barks!\n",
      "Max, the German Shepherd, barks!\n"
     ]
    }
   ],
   "source": [
    "class Dog:\n",
    "    def __init__(self, name, breed):\n",
    "        self.name = name\n",
    "        self.breed = breed\n",
    "\n",
    "    def bark(self):\n",
    "        print(f\"{self.name}, the {self.breed}, barks!\")\n",
    "\n",
    "# Creating instances of the 'Dog' class\n",
    "dog1 = Dog(\"Buddy\", \"Golden Retriever\")\n",
    "dog2 = Dog(\"Max\", \"German Shepherd\")\n",
    "\n",
    "# Calling the 'bark' method for each dog\n",
    "dog1.bark()  # Output: \"Buddy, the Golden Retriever, barks!\"\n",
    "dog2.bark()  # Output: \"Max, the German Shepherd, barks!\"\n"
   ]
  },
  {
   "cell_type": "markdown",
   "metadata": {},
   "source": [
    "Q5. What is inheritance? Give an example for each type of inheritance."
   ]
  },
  {
   "cell_type": "markdown",
   "metadata": {},
   "source": [
    "Inheritance is a fundamental concept in object-oriented programming (OOP) where a new class, known as a derived or subclass, can inherit attributes and behaviors (methods) from an existing class, known as the base or superclass. Inheritance promotes code reusability and the creation of a hierarchy of classes, allowing for the extension and specialization of classes.\n",
    "\n",
    "There are various types of inheritance, and I'll provide an example for each type:\n",
    "\n",
    "Single Inheritance:\n",
    "In single inheritance, a subclass inherits from only one superclass.\n",
    "Example:"
   ]
  },
  {
   "cell_type": "code",
   "execution_count": 4,
   "metadata": {},
   "outputs": [
    {
     "name": "stdout",
     "output_type": "stream",
     "text": [
      "Woof!\n"
     ]
    }
   ],
   "source": [
    "class Animal:\n",
    "    def speak(self):\n",
    "        pass\n",
    "\n",
    "class Dog(Animal):\n",
    "    def speak(self):\n",
    "        return \"Woof!\"\n",
    "\n",
    "dog = Dog()\n",
    "print(dog.speak())  # Output: \"Woof!\"\n"
   ]
  },
  {
   "cell_type": "markdown",
   "metadata": {},
   "source": [
    "* Multiple Inheritance:\n",
    "\n",
    "\n",
    "In multiple inheritance, a subclass inherits from multiple superclasses.\n",
    "Example:\n"
   ]
  },
  {
   "cell_type": "code",
   "execution_count": 6,
   "metadata": {},
   "outputs": [
    {
     "name": "stdout",
     "output_type": "stream",
     "text": [
      "Woof!\n",
      "Chirp, chirp!\n"
     ]
    }
   ],
   "source": [
    "class Bird:\n",
    "    def chirp(self):\n",
    "        return \"Chirp, chirp!\"\n",
    "\n",
    "class Dog:\n",
    "    def bark(self):\n",
    "        return \"Woof!\"\n",
    "\n",
    "class Pet(Dog, Bird):\n",
    "    pass\n",
    "\n",
    "pet = Pet()\n",
    "print(pet.bark())  # Accesses method from the Dog class\n",
    "print(pet.chirp())  # Accesses method from the Bird class\n"
   ]
  },
  {
   "cell_type": "markdown",
   "metadata": {},
   "source": [
    "* Multilevel Inheritance:\n",
    "\n",
    "In multilevel inheritance, a subclass inherits from another subclass, creating a chain of inheritance.\n",
    "Example:"
   ]
  },
  {
   "cell_type": "code",
   "execution_count": 7,
   "metadata": {},
   "outputs": [
    {
     "name": "stdout",
     "output_type": "stream",
     "text": [
      "Hello from Parent!\n"
     ]
    }
   ],
   "source": [
    "class Grandparent:\n",
    "    def greet(self):\n",
    "        return \"Hello from Grandparent!\"\n",
    "\n",
    "class Parent(Grandparent):\n",
    "    def greet(self):\n",
    "        return \"Hello from Parent!\"\n",
    "\n",
    "class Child(Parent):\n",
    "    pass\n",
    "\n",
    "child = Child()\n",
    "print(child.greet())  # Output: \"Hello from Parent!\" (Child inherits from Parent)\n"
   ]
  },
  {
   "cell_type": "markdown",
   "metadata": {},
   "source": [
    "Hierarchical Inheritance:\n",
    "\n",
    "\n",
    "In hierarchical inheritance, multiple subclasses inherit from a single superclass.\n",
    "Example:"
   ]
  },
  {
   "cell_type": "code",
   "execution_count": 8,
   "metadata": {},
   "outputs": [
    {
     "name": "stdout",
     "output_type": "stream",
     "text": [
      "Woof!\n",
      "Meow!\n"
     ]
    }
   ],
   "source": [
    "class Animal:\n",
    "    def sound(self):\n",
    "        pass\n",
    "\n",
    "class Dog(Animal):\n",
    "    def sound(self):\n",
    "        return \"Woof!\"\n",
    "\n",
    "class Cat(Animal):\n",
    "    def sound(self):\n",
    "        return \"Meow!\"\n",
    "\n",
    "dog = Dog()\n",
    "cat = Cat()\n",
    "\n",
    "print(dog.sound())  # Output: \"Woof!\"\n",
    "print(cat.sound())  # Output: \"Meow!\"\n"
   ]
  },
  {
   "cell_type": "markdown",
   "metadata": {},
   "source": [
    "Hybrid Inheritance:\n",
    "\n",
    "\n",
    "Hybrid inheritance is a combination of different types of inheritance within a program.\n",
    "Example"
   ]
  },
  {
   "cell_type": "code",
   "execution_count": 10,
   "metadata": {},
   "outputs": [
    {
     "name": "stdout",
     "output_type": "stream",
     "text": [
      "Method from class A\n",
      "Method from class B\n",
      "Method from class C\n"
     ]
    }
   ],
   "source": [
    "class A:\n",
    "    def method_a(self):\n",
    "        return \"Method from class A\"\n",
    "\n",
    "class B(A):\n",
    "    def method_b(self):\n",
    "        return \"Method from class B\"\n",
    "\n",
    "class C(A):\n",
    "    def method_c(self):\n",
    "        return \"Method from class C\"\n",
    "\n",
    "class D(B, C):\n",
    "    pass\n",
    "\n",
    "d = D()\n",
    "\n",
    "output_a = d.method_a()  # Accesses method from A (inherited from both B and C)\n",
    "output_b = d.method_b()  # Accesses method from B\n",
    "output_c = d.method_c()  # Accesses method from C\n",
    "\n",
    "print(output_a)  # Output: \"Method from class A\"\n",
    "print(output_b)  # Output: \"Method from class B\"\n",
    "print(output_c)  # Output: \"Method from class C\"\n"
   ]
  }
 ],
 "metadata": {
  "kernelspec": {
   "display_name": "Python 3",
   "language": "python",
   "name": "python3"
  },
  "language_info": {
   "codemirror_mode": {
    "name": "ipython",
    "version": 3
   },
   "file_extension": ".py",
   "mimetype": "text/x-python",
   "name": "python",
   "nbconvert_exporter": "python",
   "pygments_lexer": "ipython3",
   "version": "3.8.10"
  }
 },
 "nbformat": 4,
 "nbformat_minor": 2
}
